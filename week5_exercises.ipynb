{
 "cells": [
  {
   "cell_type": "markdown",
   "metadata": {},
   "source": [
    "![Beautiful landscape](https://raw.githubusercontent.com/it-web-pro/django-week3/main/images/WEEK3-ERD(e-commerce).png)"
   ]
  },
  {
   "cell_type": "code",
   "execution_count": null,
   "metadata": {},
   "outputs": [],
   "source": [
    "import os"
   ]
  },
  {
   "cell_type": "code",
   "execution_count": null,
   "metadata": {},
   "outputs": [],
   "source": [
    "os.environ['DJANGO_ALLOW_ASYNC_UNSAFE'] = \"true\""
   ]
  },
  {
   "cell_type": "code",
   "execution_count": null,
   "metadata": {},
   "outputs": [],
   "source": [
    "# import modules\n",
    "from shop.models import *"
   ]
  },
  {
   "cell_type": "markdown",
   "metadata": {},
   "source": [
    "### 1. annotate(), F()"
   ]
  },
  {
   "cell_type": "markdown",
   "metadata": {},
   "source": [
    "1.1 ให้นักศึกษาค้นหาข้อมูล `Payment` โดยให้เพิ่ม field ราคาที่หักส่วนลดแล้ว โดยกำหนดให้ชื่อ field ว่า \"after_discount_price\"\n"
   ]
  },
  {
   "cell_type": "markdown",
   "metadata": {},
   "source": [
    "1.2 ให้นักศึกษาค้นหาข้อมูลสินค้าและเพิ่ม field ชื่อ \"product_catagory_name\""
   ]
  },
  {
   "cell_type": "markdown",
   "metadata": {},
   "source": [
    "### 2. Order_by"
   ]
  },
  {
   "cell_type": "markdown",
   "metadata": {},
   "source": [
    "2.1 ให้นักศึกษาเรียงข้อมูลลูกค้าใหม่โดยเรียงตามลำดับตัวอักษรมากไปน้อยจากชื่อเต็มของลูกค้า\n"
   ]
  },
  {
   "cell_type": "markdown",
   "metadata": {},
   "source": [
    "2.2 ให้นักศึกษาเรียงข้อมูลราคาสินค้าใน `Payment` ที่หักส่วนลดแล้วจากน้อยไปมาก"
   ]
  },
  {
   "cell_type": "markdown",
   "metadata": {},
   "source": [
    "### 3. aggregation - count(), sum(), AVG()\n"
   ]
  },
  {
   "cell_type": "markdown",
   "metadata": {},
   "source": [
    "3.1 ให้นักศึกษาหาค่าเฉลี่ยของราคาสินค้าที่มีจำนวนคงเหลือมากกว่า 0\n"
   ]
  },
  {
   "cell_type": "markdown",
   "metadata": {},
   "source": [
    "3.2 จงหาส่วนต่างผลรวมของ ส่วนลด และราคาก่อนหักส่วนลด ที่ใช้วิธีจ่ายแสกน QR code ทั้งหมด\n"
   ]
  },
  {
   "cell_type": "markdown",
   "metadata": {},
   "source": [
    "3.3 ให้นักศึกษานับจำนวนสินค้า ประเภท `Information Technology`, `Electronics`, `Home Appliances` ที่ถูกสั่งซื้อในเดือนที่ `เมษายน` และ `มิถุนายน`"
   ]
  },
  {
   "cell_type": "markdown",
   "metadata": {},
   "source": [
    "### 4. one-to-one "
   ]
  },
  {
   "cell_type": "markdown",
   "metadata": {},
   "source": [
    "4.1 ให้นักศึกษาค้นหาข้อมูลใบสั่งซื้อที่มีมูลค่าระหว่าง 5000.00 - 15000.00 พร้อมแสดงวันที่ของใบสั่งซื้อ และใบชำระเงิน"
   ]
  },
  {
   "cell_type": "markdown",
   "metadata": {},
   "source": [
    "### 5. one-to-many"
   ]
  },
  {
   "cell_type": "markdown",
   "metadata": {},
   "source": [
    "5.1 ให้นักศึกษาบันทึกข้อมูลใบสั่งซื้อ และการชำระเงินของลูกค้าชื่อ `Manit Senapan` ตามรายการดังนี้\n",
    "\n",
    "- ออกใบสั่งซื้อวันที่ 5 สิงหาคม 2567\n",
    "- หมายเหตุ: `ฉันรวย อยากใช้เงินเยอะๆ`\n",
    "    \n",
    "    โดย Manit สั่งสิ้นค้าดั่งนี้\n",
    "\n",
    "        - Diamond Stud Earrings จำนวน 1 ชิ้น\n",
    "\n",
    "        - Sofa จำนวน 2 ชิ้น\n",
    "\n",
    "        - Rose Gold Hoop Earrings จำนวน 1 ชิ้น\n",
    "    \n",
    "    โดยที่ Manit ได้รับส่วนลดชิ้นละ 10 % ของสินค้า พร้อมชำระเงินด้วยบัตรเคดิต และมีการระบุหมายเหตุตอนชำระเงินว่า `ลูกค้า VIP ของเรา`\n",
    "\n",
    "    จากนั้นให้ระบบแสดงผลการสร้างใบสั่งซื้อและการชำระเงินของ Manit ให้ถูกต้อง"
   ]
  },
  {
   "cell_type": "markdown",
   "metadata": {},
   "source": [
    "### 6. many-to-many"
   ]
  },
  {
   "cell_type": "markdown",
   "metadata": {},
   "source": [
    "6.1 ให้นักศึกษาเปลี่ยนชื่อประเภทสินค้า `Books and Media` เป็น `Books and Toys` และให้ลบประเภท `Toys and Games` ออกโดยให้ใช้เป็น `Books and Toys` แทน และทดลองค้นหาสินค้าที่ประเภท `Books and Toys` ทั้งหมด"
   ]
  }
 ],
 "metadata": {
  "kernelspec": {
   "display_name": "Python 3",
   "language": "python",
   "name": "python3"
  },
  "language_info": {
   "name": "python",
   "version": "3.11.5"
  }
 },
 "nbformat": 4,
 "nbformat_minor": 2
}
