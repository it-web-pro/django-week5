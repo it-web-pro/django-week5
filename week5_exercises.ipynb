{
 "cells": [
  {
   "cell_type": "markdown",
   "metadata": {},
   "source": [
    "![Beautiful landscape](https://raw.githubusercontent.com/it-web-pro/django-week3/main/images/WEEK3-ERD(e-commerce).png)"
   ]
  },
  {
   "cell_type": "code",
   "execution_count": null,
   "metadata": {},
   "outputs": [],
   "source": [
    "import os"
   ]
  },
  {
   "cell_type": "code",
   "execution_count": null,
   "metadata": {},
   "outputs": [],
   "source": [
    "os.environ['DJANGO_ALLOW_ASYNC_UNSAFE'] = \"true\""
   ]
  },
  {
   "cell_type": "code",
   "execution_count": null,
   "metadata": {},
   "outputs": [],
   "source": [
    "# import modules\n",
    "from shop.models import *"
   ]
  },
  {
   "cell_type": "markdown",
   "metadata": {},
   "source": [
    "### 1. annotate(), F()"
   ]
  },
  {
   "cell_type": "markdown",
   "metadata": {},
   "source": [
    "1.1 ให้นักศึกษาค้นหาข้อมูล `Payment` โดยให้เพิ่ม field ราคาที่ลบกับส่วนลดแล้ว โดยกำหนดให้ชื่อ field ว่า \"after_discount_price\"\n",
    "\n",
    "ตัวอย่าง Output บางส่วน\n",
    "\n",
    "```PYTHON\n",
    "# data structures เป็น List(dict)\n",
    " [\n",
    "     {\"payment_id\": 22, \"after_discount_price\": 559.06},\n",
    "     {\"payment_id\": 23, \"after_discount_price\": 5328.17},\n",
    "     {\"payment_id\": 24, \"after_discount_price\": 4725.04},\n",
    "     {\"payment_id\": 25, \"after_discount_price\": 2331.85}\n",
    " ]\n",
    "```"
   ]
  },
  {
   "cell_type": "code",
   "execution_count": null,
   "metadata": {},
   "outputs": [],
   "source": [
    "# code here"
   ]
  },
  {
   "cell_type": "markdown",
   "metadata": {},
   "source": [
    "### 2. Order_by"
   ]
  },
  {
   "cell_type": "markdown",
   "metadata": {},
   "source": [
    "2.1 ให้นักศึกษาเรียงข้อมูลลูกค้าใหม่โดยเรียงตามลำดับตัวอักษรมากไปน้อยจากชื่อเต็มของลูกค้า(full_name)\n",
    "\n",
    "ตัวอย่าง Output บางส่วน \n",
    "\n",
    "```PYTHON\n",
    "# data structures เป็น List(dict)\n",
    "[\n",
    "    {\n",
    "        \"customer_id\": 15,\n",
    "        \"full_name\": \"stave klolas\",\n",
    "        \"email\": \"mr.stave@gmail.com\",\n",
    "        \"address\": {\n",
    "            \"district\": \"Bang Kapi\",\n",
    "            \"location\": \"23 Ramkhamhaeng Road\",\n",
    "            \"province\": \"Bangkok\",\n",
    "            \"postal_code\": 10240\n",
    "        }\n",
    "    },\n",
    "    {\n",
    "        \"customer_id\": 23,\n",
    "        \"full_name\": \"Yanisa Thongchaiyapoom\",\n",
    "        \"email\": \"yanisa.game888@gmail.com\",\n",
    "        \"address\": {\n",
    "            \"district\": \"Paknampho\",\n",
    "            \"location\": \"200 Nakhon Sawan Road\",\n",
    "            \"province\": \"Nakhon Sawan\",\n",
    "            \"postal_code\": 60000\n",
    "        }\n",
    "    }\n",
    "]\n",
    "\n",
    "```"
   ]
  },
  {
   "cell_type": "code",
   "execution_count": null,
   "metadata": {},
   "outputs": [],
   "source": [
    "# code here"
   ]
  },
  {
   "cell_type": "markdown",
   "metadata": {},
   "source": [
    "2.2 ให้นักศึกษาเรียงข้อมูลราคาสินค้าใน `Payment` ที่หักส่วนลดแล้วจากน้อยไปมาก\n",
    "\n",
    "ตัวอย่าง Output บางส่วน\n",
    "\n",
    "```PYTHON\n",
    "# data structures เป็น List(dict) \n",
    "[\n",
    "    {\"payment_id\": 49, \"price\": 290.0}\n",
    "    {\"payment_id\": 78, \"price\": 400.0}\n",
    "    {\"payment_id\": 56, \"price\": 439.0}\n",
    "    {\"payment_id\": 13, \"price\": 470.0}\n",
    "    {\"payment_id\": 58, \"price\": 539.0}\n",
    "]\n",
    "```"
   ]
  },
  {
   "cell_type": "code",
   "execution_count": null,
   "metadata": {},
   "outputs": [],
   "source": [
    "# code here"
   ]
  },
  {
   "cell_type": "markdown",
   "metadata": {},
   "source": [
    "### 3. aggregation - count(), sum(), AVG()\n"
   ]
  },
  {
   "cell_type": "markdown",
   "metadata": {},
   "source": [
    "3.1 ให้นักศึกษาหาค่าเฉลี่ยของราคาสินค้าที่มีจำนวนคงเหลือมากกว่า 0\n",
    "\n",
    "``` PYTHON\n",
    "{'avg': Decimal('29308.000000000000')}\n",
    "```\n"
   ]
  },
  {
   "cell_type": "code",
   "execution_count": null,
   "metadata": {},
   "outputs": [],
   "source": [
    "# code here"
   ]
  },
  {
   "cell_type": "markdown",
   "metadata": {},
   "source": [
    "3.2 จงหาผลรวมราคาที่อยู่ในตระกร้าสินค้าของเดือน `พฤษภาคม`\n",
    "\n",
    "```PYTHON\n",
    "{'sum': Decimal('9912555.00')}\n",
    "\n",
    "```"
   ]
  },
  {
   "cell_type": "code",
   "execution_count": null,
   "metadata": {},
   "outputs": [],
   "source": [
    "# code here"
   ]
  },
  {
   "cell_type": "markdown",
   "metadata": {},
   "source": [
    "3.3 ให้นักศึกษานับจำนวนสินค้าที่อยู่ประเภท `Electronics`,  `Jewelry` และ ราคาของสินค้าอยู่ในช่วง 8,000.00 - 50,000.00\n",
    "\n",
    "```PYTHON\n",
    "# data structures เป็น List(dict) \n",
    "[\n",
    "    {'product_category_name': 'Electronics', 'count_products': 6}\n",
    "    {'product_category_name': 'Jewelry', 'count_products': 1}\n",
    "]\n",
    "```"
   ]
  },
  {
   "cell_type": "code",
   "execution_count": null,
   "metadata": {},
   "outputs": [],
   "source": [
    "# code here"
   ]
  },
  {
   "cell_type": "markdown",
   "metadata": {},
   "source": [
    "### 4. one-to-one "
   ]
  },
  {
   "cell_type": "markdown",
   "metadata": {},
   "source": [
    "4.1 ให้นักศึกษาค้นหาข้อมูลใบสั่งซื้อที่มีมูลค่าระหว่าง 5000.00 - 15000.00 พร้อมแสดงวันที่ของใบสั่งซื้อ และใบชำระเงิน"
   ]
  },
  {
   "cell_type": "markdown",
   "metadata": {},
   "source": [
    "### 5. one-to-many"
   ]
  },
  {
   "cell_type": "markdown",
   "metadata": {},
   "source": [
    "5.1 ให้นักศึกษาบันทึกข้อมูลใบสั่งซื้อ และการชำระเงินของลูกค้าชื่อ `Manit Senapan` ตามรายการดังนี้\n",
    "\n",
    "- ออกใบสั่งซื้อวันที่ 5 สิงหาคม 2567\n",
    "- หมายเหตุ: `ฉันรวย อยากใช้เงินเยอะๆ`\n",
    "    \n",
    "    โดย Manit สั่งสิ้นค้าดั่งนี้\n",
    "\n",
    "        - Diamond Stud Earrings จำนวน 1 ชิ้น\n",
    "\n",
    "        - Sofa จำนวน 2 ชิ้น\n",
    "\n",
    "        - Rose Gold Hoop Earrings จำนวน 1 ชิ้น\n",
    "    \n",
    "    โดยที่ Manit ได้รับส่วนลดชิ้นละ 10 % ของสินค้า พร้อมชำระเงินด้วยบัตรเคดิต และมีการระบุหมายเหตุตอนชำระเงินว่า `ลูกค้า VIP ของเรา`\n",
    "\n",
    "    จากนั้นให้ระบบแสดงผลการสร้างใบสั่งซื้อและการชำระเงินของ Manit ให้ถูกต้อง"
   ]
  },
  {
   "cell_type": "markdown",
   "metadata": {},
   "source": [
    "### 6. many-to-many"
   ]
  },
  {
   "cell_type": "markdown",
   "metadata": {},
   "source": [
    "6.1 ให้นักศึกษาค้นหาข้อมูลสินค้าทั้งหมด และแสดงชื่อประเภทสินค้า\n",
    "\n",
    "ตัวอย่าง Output บางส่วน\n",
    "\n",
    "```PYTHON\n",
    "# data structures เป็น List(dict) \n",
    "[\n",
    "    {\n",
    "        \"prodcut_id\": 1, \n",
    "        \"product_name\": \"Smartphone\", \n",
    "        \"product_category\": [\"Information technology\", \"Electronics\"], \n",
    "        \"price\": 5900.00\n",
    "    }\n",
    "    {\n",
    "        \"prodcut_id\": 2, \n",
    "        \"product_name\": \"Laptop\", \n",
    "        \"product_category\": [\"Information technology\", \"Electronics\"], \n",
    "        \"price\": 25999.00\n",
    "    }\n",
    "    {\n",
    "        \"prodcut_id\": 3, \n",
    "        \"product_name\": \"Smart TV\", \n",
    "        \"product_category\": [\"Information technology\", \"Electronics\"], \n",
    "        \"price\": 8900.00\n",
    "    }\n",
    "    {\n",
    "        \"prodcut_id\": 4, \n",
    "        \"product_name\": \"Bluetooth Earphones\", \n",
    "        \"product_category\": [\"Information technology\", \"Electronics\"], \n",
    "        \"price\": 350.00\n",
    "    }\n",
    "    {\n",
    "        \"prodcut_id\": 5, \n",
    "        \"product_name\": \"Tablet\", \n",
    "        \"product_category\": [\"Information technology\", \"Electronics\"], \n",
    "        \"price\": 12900.00\n",
    "    }\n",
    "]\n",
    "```"
   ]
  },
  {
   "cell_type": "code",
   "execution_count": null,
   "metadata": {},
   "outputs": [],
   "source": [
    "# code here"
   ]
  },
  {
   "cell_type": "markdown",
   "metadata": {},
   "source": [
    "6.2 ให้นักศึกษาเปลี่ยนชื่อประเภทสินค้า `Books and Media` เป็น `Books and Toys` และให้ลบประเภท `Toys and Games` ออกโดยให้ใช้เป็น `Books and Toys` แทน และทดลองค้นหาสินค้าที่ประเภท `Books and Toys` ทั้งหมด"
   ]
  },
  {
   "cell_type": "code",
   "execution_count": null,
   "metadata": {},
   "outputs": [],
   "source": [
    "# code here"
   ]
  }
 ],
 "metadata": {
  "kernelspec": {
   "display_name": "Python 3",
   "language": "python",
   "name": "python3"
  },
  "language_info": {
   "name": "python",
   "version": "3.11.5"
  }
 },
 "nbformat": 4,
 "nbformat_minor": 2
}
